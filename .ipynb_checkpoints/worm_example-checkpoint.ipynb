{
 "cells": [
  {
   "cell_type": "code",
   "execution_count": null,
   "metadata": {},
   "outputs": [],
   "source": [
    "import numpy as np\n",
    "import matplotlib.pyplot as plt\n",
    "from ripser import ripser\n",
    "from persim import plot_diagrams\n",
    "import tadasets\n",
    "import plotly.graph_objects as go"
   ]
  },
  {
   "cell_type": "code",
   "execution_count": null,
   "metadata": {},
   "outputs": [],
   "source": [
    "import networkx as nx\n",
    "import copy"
   ]
  },
  {
   "cell_type": "code",
   "execution_count": null,
   "metadata": {},
   "outputs": [],
   "source": [
    "from TDAclustering import *\n",
    "from TDAclusteringDatasets import *\n",
    "from TDAclusteringEvaluation import *\n",
    "from TDAclusteringMapper import *\n",
    "from TDAclusteringStateDiagrams import *\n",
    "from TDAclusteringUtils import *\n",
    "from TDAclusteringVisualization import *\n"
   ]
  },
  {
   "cell_type": "code",
   "execution_count": null,
   "metadata": {},
   "outputs": [],
   "source": [
    "worm_nr = \"worm_2\"\n",
    "import pandas as pd\n",
    "df = pd.read_csv('Y0_tr__AbCNet_' + worm_nr + '.csv', header=None, sep=\" \", names=[\"x\",\"y\",\"z\"])\n",
    "dlist = df.to_numpy()\n",
    "labels = pd.read_csv('B_train_1__AbCNet_' + worm_nr + '.csv', header=None, dtype= int, sep=\" \", names=[\"label\"])\n",
    "labels_list = labels.to_numpy()\n",
    "labels_list = labels_list.flatten()\n",
    "print(df)"
   ]
  },
  {
   "cell_type": "code",
   "execution_count": null,
   "metadata": {},
   "outputs": [],
   "source": [
    "x = dlist\n",
    "from scipy.ndimage import rotate\n",
    "import scipy\n",
    "from scipy import *"
   ]
  },
  {
   "cell_type": "code",
   "execution_count": null,
   "metadata": {},
   "outputs": [],
   "source": [
    "result = ripser(x, do_cocycles=True)\n",
    "diagrams = result['dgms']\n",
    "cocycles = result['cocycles']\n",
    "D = result['dperm2all']"
   ]
  },
  {
   "cell_type": "code",
   "execution_count": null,
   "metadata": {},
   "outputs": [],
   "source": [
    "show_diagram(diagrams)"
   ]
  },
  {
   "cell_type": "code",
   "execution_count": null,
   "metadata": {},
   "outputs": [],
   "source": [
    "clustering1 = apply_tda_clustering(x, all_get_label=True, point_fraction=0.5, target_r=False, target_radius_fraction=0.01, downsampling=True, thresh_function=None, include_neighbors=True, barycenter_assignment=False, density_assignment=False, discard_labels=True, discard_clusters=True, min_support_labels=10, min_thresh_labels=0.2, max_correl=0.8, min_support_clusters=20, min_thresh_clusters=0.2, nr_clusters=8, nearest_on_trajectory=True, only_decision_labels=True, remove_small=False, birth_weight=1, sub_const=0,  return_threshes = True, plot_something=False, print_something=False)\n",
    "plot_simple(x,clustering1, remove_0=False)\n",
    "print(np.unique(clustering1))\n",
    "plt.show()\n",
    "compare_state_diagrams(x, labels_list, [clustering1 ], threshold=1)"
   ]
  },
  {
   "cell_type": "code",
   "execution_count": null,
   "metadata": {},
   "outputs": [],
   "source": [
    "clustering2 = apply_tda_clustering(x, all_get_label=True, point_fraction=0.8, target_r=False, target_radius_fraction=0.01, downsampling=True, thresh_function=None, include_neighbors=True, barycenter_assignment=False, density_assignment=False, discard_labels=True, discard_clusters=True, min_support_labels=60, min_thresh_labels=0.4, max_correl=0.8, min_support_clusters=20, min_thresh_clusters=0.2, nr_clusters=8, nearest_on_trajectory=True, only_decision_labels=True, remove_small=True, birth_weight=1, sub_const=0,  return_threshes = True, plot_something=False, print_something=False)\n",
    "plot_simple(x,clustering2, remove_0=False)\n",
    "print(np.unique(clustering2))\n",
    "plt.show()\n",
    "compare_state_diagrams(x, labels_list, [clustering2 ], threshold=1)"
   ]
  },
  {
   "cell_type": "code",
   "execution_count": null,
   "metadata": {},
   "outputs": [],
   "source": [
    "clustering3 = apply_tda_clustering(x, all_get_label=True, point_fraction=0.5, target_r=False, target_radius_fraction=0.01, downsampling=True, thresh_function=None, include_neighbors=True, barycenter_assignment=False, density_assignment=False, discard_labels=True, discard_clusters=True, min_support_labels=10, min_thresh_labels=0.4, max_correl=0.8, min_support_clusters=20, min_thresh_clusters=0.2, nr_clusters=8, nearest_on_trajectory=True, only_decision_labels=True, remove_small=False, birth_weight=1, sub_const=0,  return_threshes = True, plot_something=False, print_something=False)\n",
    "plot_simple(x,clustering3, remove_0=False)\n",
    "print(np.unique(clustering3))\n",
    "plt.show()\n",
    "compare_state_diagrams(x, labels_list, [clustering3 ], threshold=1)"
   ]
  },
  {
   "cell_type": "code",
   "execution_count": null,
   "metadata": {},
   "outputs": [],
   "source": [
    "plot_interactive(x, clustering3)"
   ]
  },
  {
   "cell_type": "code",
   "execution_count": null,
   "metadata": {},
   "outputs": [],
   "source": [
    "clustering4 = apply_tda_clustering(x, all_get_label=True, point_fraction=0.5, target_r=False, target_radius_fraction=0.01, downsampling=True, thresh_function=None, include_neighbors=True, barycenter_assignment=False, density_assignment=False, discard_labels=True, discard_clusters=True, min_support_labels=10, min_thresh_labels=0.4, max_correl=0.8, min_support_clusters=20, min_thresh_clusters=0.2, nr_clusters=8, nearest_on_trajectory=True, only_decision_labels=True, remove_small=True, birth_weight=1, sub_const=0,  return_threshes = True, plot_something=False, print_something=False)\n",
    "plot_simple(x,clustering4, remove_0=True)\n",
    "print(np.unique(clustering4))\n",
    "plt.show()\n",
    "compare_state_diagrams(x, labels_list, [clustering4 ], threshold=1)"
   ]
  },
  {
   "cell_type": "code",
   "execution_count": null,
   "metadata": {},
   "outputs": [],
   "source": [
    "plot_simple(x,clustering4, remove_0=False)\n"
   ]
  },
  {
   "cell_type": "code",
   "execution_count": null,
   "metadata": {},
   "outputs": [],
   "source": [
    "plot_interactive(x,clustering4, remove_0=False)\n"
   ]
  },
  {
   "cell_type": "code",
   "execution_count": null,
   "metadata": {},
   "outputs": [],
   "source": [
    "create_state_diagrams_check_distance(x,clustering4, threshold=1,  threshold_distance=None, zero_breaks=False, zero_distance=0, plot_something=True, zero_value=0)"
   ]
  },
  {
   "cell_type": "code",
   "execution_count": null,
   "metadata": {},
   "outputs": [],
   "source": [
    "clustering5 = apply_tda_clustering(x, all_get_label=True,num_voxels_per_axis = 15, min_points_per_voxel=1, smoothing=True, thresh_function=None, include_neighbors=True, barycenter_assignment=False, density_assignment=True, discard_labels=True, discard_clusters=True, min_support_labels=60, min_thresh_labels=0.4, max_correl=0.8, min_support_clusters=20, min_thresh_clusters=0.2,  nearest_on_trajectory=False, only_decision_labels=True, remove_small=True, birth_weight=1, sub_const=0,  return_threshes = True, plot_something=False, print_something=False)\n",
    "plot_simple(x,clustering5, remove_0=False)\n",
    "print(np.unique(clustering5))\n",
    "plt.show()\n",
    "compare_state_diagrams(x, labels_list, [clustering5 ], threshold=1)"
   ]
  },
  {
   "cell_type": "code",
   "execution_count": null,
   "metadata": {},
   "outputs": [],
   "source": [
    "clustering6 = apply_tda_clustering(x, all_get_label=False, include_neighbors=True, downsampling_but_return_full=False, smoothing=False, downsampling=True, barycenter_assignment=False, density_assignment=False, discard_labels=True, discard_clusters=True, min_support_labels=10, min_thresh_labels=0.1, nr_labels=9, max_correl=0.8, min_support_clusters=5, min_thresh_clusters=0.1, nr_clusters=8, nearest_on_trajectory=False, only_decision_labels=True, remove_small=False, birth_weight=1, sub_const=0, return_threshes = True, plot_something=False, print_something=False)"
   ]
  },
  {
   "cell_type": "code",
   "execution_count": null,
   "metadata": {},
   "outputs": [],
   "source": [
    "plot_interactive(clustering6[0],clustering6[1], remove_0=True)"
   ]
  },
  {
   "cell_type": "code",
   "execution_count": null,
   "metadata": {},
   "outputs": [],
   "source": [
    "clustering6_x_rem, clustering6_l_rem = remove_zero_points(clustering6[0],clustering6[1], zero_value=0)"
   ]
  },
  {
   "cell_type": "code",
   "execution_count": null,
   "metadata": {},
   "outputs": [],
   "source": [
    "plot_simple(clustering6_x_rem, clustering6_l_rem)"
   ]
  },
  {
   "cell_type": "code",
   "execution_count": null,
   "metadata": {},
   "outputs": [],
   "source": [
    "plot_interactive(clustering6_x_rem, clustering6_l_rem)"
   ]
  },
  {
   "cell_type": "code",
   "execution_count": null,
   "metadata": {},
   "outputs": [],
   "source": [
    "create_state_diagrams_check_distance(clustering6[0],clustering6[1], threshold=1, zero_breaks=False, zero_distance=0, plot_something=True, zero_value=0)"
   ]
  },
  {
   "cell_type": "code",
   "execution_count": null,
   "metadata": {},
   "outputs": [],
   "source": [
    "clustering9 = apply_tda_clustering(x, all_get_label=True, thresh_function=\"multiotsu\", include_neighbors=False, barycenter_assignment=True, density_assignment=False, discard_labels=False, discard_clusters=True, min_support_labels=20, min_thresh_labels=0.1, max_correl=0.5, min_support_clusters=10, min_thresh_clusters=0.05, nr_clusters=8, nearest_on_trajectory=False, only_decision_labels=True, remove_small=True, birth_weight=1, sub_const=0, return_threshes = True, plot_something=False, print_something=False)\n",
    "plot_simple(x,clustering9, remove_0=False)\n",
    "print(np.unique(clustering9))\n",
    "plt.show()\n",
    "compare_state_diagrams(x, labels_list, [clustering9 ], threshold=1)\n"
   ]
  },
  {
   "cell_type": "code",
   "execution_count": null,
   "metadata": {},
   "outputs": [],
   "source": [
    "clustering9 = apply_tda_clustering(x, all_get_label=True, thresh_function=None, include_neighbors=False, barycenter_assignment=False, density_assignment=False, discard_labels=False, discard_clusters=True, min_support_labels=20, min_thresh_labels=0.1, max_correl=0.5, min_support_clusters=10, min_thresh_clusters=0.05, nr_clusters=8, nearest_on_trajectory=False, only_decision_labels=True, remove_small=True, birth_weight=1, sub_const=0, return_threshes = True, plot_something=False, print_something=False)\n",
    "plot_simple(x,clustering9, remove_0=False)\n",
    "print(np.unique(clustering9))\n",
    "plt.show()\n",
    "compare_state_diagrams(x, labels_list, [clustering9 ], threshold=1)\n"
   ]
  },
  {
   "cell_type": "code",
   "execution_count": null,
   "metadata": {},
   "outputs": [],
   "source": [
    "clustering9 = apply_tda_clustering(x, all_get_label=True, thresh_function=None, include_neighbors=False, barycenter_assignment=False, density_assignment=True, discard_labels=False, discard_clusters=True, min_support_labels=20, min_thresh_labels=0.1, max_correl=0.5, min_support_clusters=10, min_thresh_clusters=0.05, nr_clusters=8, nearest_on_trajectory=False, only_decision_labels=True, remove_small=True, birth_weight=1, sub_const=0, return_threshes = True, plot_something=False, print_something=False)\n",
    "plot_simple(x,clustering9, remove_0=False)\n",
    "print(np.unique(clustering9))\n",
    "plt.show()\n",
    "compare_state_diagrams(x, labels_list, [clustering9 ], threshold=1)\n"
   ]
  },
  {
   "cell_type": "code",
   "execution_count": null,
   "metadata": {},
   "outputs": [],
   "source": [
    "clustering9 = apply_tda_clustering(x, all_get_label=True, thresh_function=None, include_neighbors=False, barycenter_assignment=True, density_assignment=False, discard_labels=False, discard_clusters=True, min_support_labels=20, min_thresh_labels=0.1, max_correl=0.5, min_support_clusters=10, min_thresh_clusters=0.05, nr_clusters=8, nearest_on_trajectory=False, only_decision_labels=True, remove_small=True, birth_weight=1, sub_const=0, return_threshes = True, plot_something=False, print_something=False)\n",
    "plot_simple(x,clustering9, remove_0=False)\n",
    "print(np.unique(clustering9))\n",
    "plt.show()\n",
    "compare_state_diagrams(x, labels_list, [clustering9 ], threshold=1)\n"
   ]
  },
  {
   "cell_type": "code",
   "execution_count": null,
   "metadata": {},
   "outputs": [],
   "source": [
    "clustering7 = apply_tda_clustering(x, all_get_label=False, point_fraction=0.5, target_r=False, target_radius_fraction=0.01, include_neighbors=True, downsampling_but_return_full=False, smoothing=False, downsampling=True, barycenter_assignment=False, density_assignment=False, discard_labels=True, discard_clusters=True, min_support_labels=10, min_thresh_labels=0.1, nr_labels=9, max_correl=0.8, min_support_clusters=5, min_thresh_clusters=0.1, nr_clusters=8, nearest_on_trajectory=False, only_decision_labels=True, remove_small=False, birth_weight=1, sub_const=0, return_threshes = True, plot_something=False, print_something=False)"
   ]
  },
  {
   "cell_type": "code",
   "execution_count": null,
   "metadata": {},
   "outputs": [],
   "source": [
    "plot_simple(clustering7[0], clustering7[1], remove_0=True)"
   ]
  },
  {
   "cell_type": "code",
   "execution_count": null,
   "metadata": {},
   "outputs": [],
   "source": [
    "plot_interactive(clustering7[0], clustering7[1], remove_0=True)"
   ]
  },
  {
   "cell_type": "code",
   "execution_count": null,
   "metadata": {},
   "outputs": [],
   "source": [
    "plot_interactive(x, list(labels_list), remove_0=True)"
   ]
  },
  {
   "cell_type": "code",
   "execution_count": null,
   "metadata": {},
   "outputs": [],
   "source": [
    "create_state_diagrams_check_distance(clustering7[0], clustering7[1], threshold=1,  threshold_distance=None, zero_breaks=False, zero_distance=0, plot_something=True, zero_value=0)"
   ]
  },
  {
   "cell_type": "code",
   "execution_count": null,
   "metadata": {},
   "outputs": [],
   "source": [
    "clustering8 = apply_tda_clustering(x, all_get_label=True, smoothing=True, num_voxels_per_axis = 20, min_points_per_voxel=None, thresh_function=None, include_neighbors=True, barycenter_assignment=False, density_assignment=True, discard_labels=True, discard_clusters=True, min_support_labels=10, min_thresh_labels=0.2, max_correl=0.8, min_support_clusters=10, min_thresh_clusters=0.2, nr_clusters=8, nearest_on_trajectory=False, only_decision_labels=True, remove_small=True, birth_weight=1, sub_const=0, return_threshes = True, plot_something=False, print_something=False)\n",
    "plot_simple(x,clustering8, remove_0=False)\n",
    "print(np.unique(clustering8))\n",
    "plt.show()\n",
    "compare_state_diagrams(x, labels_list, [clustering8 ], threshold=1)\n"
   ]
  },
  {
   "cell_type": "code",
   "execution_count": null,
   "metadata": {},
   "outputs": [],
   "source": [
    "clustering9 = apply_tda_clustering(x, all_get_label=True, thresh_function=None, include_neighbors=True, barycenter_assignment=False, density_assignment=True, discard_labels=True, discard_clusters=True, min_support_labels=60, min_thresh_labels=0.4, max_correl=0.8, min_support_clusters=20, min_thresh_clusters=0.2, nr_clusters=8, nearest_on_trajectory=False, only_decision_labels=True, remove_small=False, birth_weight=1, sub_const=0, return_threshes = True, plot_something=False, print_something=False)\n",
    "plot_simple(x,clustering9, remove_0=False)\n",
    "print(np.unique(clustering9))\n",
    "plt.show()\n",
    "compare_state_diagrams(x, labels_list, [clustering9 ], threshold=1)\n"
   ]
  },
  {
   "cell_type": "code",
   "execution_count": null,
   "metadata": {},
   "outputs": [],
   "source": [
    "clustering9 = apply_tda_clustering(x, all_get_label=True, thresh_function=None, include_neighbors=False, barycenter_assignment=False, density_assignment=True, discard_labels=False, discard_clusters=True, min_support_labels=60, min_thresh_labels=0.4, max_correl=0.8, min_support_clusters=20, min_thresh_clusters=0.2, nr_clusters=8, nearest_on_trajectory=False, only_decision_labels=True, remove_small=False, birth_weight=1, sub_const=0, return_threshes = True, plot_something=False, print_something=False)\n",
    "plot_simple(x,clustering9, remove_0=False)\n",
    "print(np.unique(clustering9))\n",
    "plt.show()\n",
    "compare_state_diagrams(x, labels_list, [clustering9 ], threshold=1)\n"
   ]
  },
  {
   "cell_type": "code",
   "execution_count": null,
   "metadata": {},
   "outputs": [],
   "source": [
    "clustering9 = apply_tda_clustering(x, all_get_label=True, thresh_function=None, include_neighbors=False, barycenter_assignment=False, density_assignment=True, discard_labels=False, discard_clusters=True, min_support_labels=20, min_thresh_labels=0.1, max_correl=0.8, min_support_clusters=10, min_thresh_clusters=0.1, nr_clusters=8, nearest_on_trajectory=False, only_decision_labels=True, remove_small=False, birth_weight=1, sub_const=0, return_threshes = True, plot_something=False, print_something=False)\n",
    "plot_simple(x,clustering9, remove_0=False)\n",
    "print(np.unique(clustering9))\n",
    "plt.show()\n",
    "compare_state_diagrams(x, labels_list, [clustering9 ], threshold=1)\n"
   ]
  },
  {
   "cell_type": "code",
   "execution_count": null,
   "metadata": {},
   "outputs": [],
   "source": [
    "clustering9 = apply_tda_clustering(x, all_get_label=True, thresh_function=None, include_neighbors=False, barycenter_assignment=False, density_assignment=False, discard_labels=False, discard_clusters=True, min_support_labels=20, min_thresh_labels=0.1, max_correl=0.8, min_support_clusters=10, min_thresh_clusters=0.1, nr_clusters=8, nearest_on_trajectory=False, only_decision_labels=True, remove_small=False, birth_weight=1, sub_const=0, return_threshes = True, plot_something=False, print_something=False)\n",
    "plot_simple(x,clustering9, remove_0=False)\n",
    "print(np.unique(clustering9))\n",
    "plt.show()\n",
    "compare_state_diagrams(x, labels_list, [clustering9 ], threshold=1)\n"
   ]
  },
  {
   "cell_type": "code",
   "execution_count": null,
   "metadata": {},
   "outputs": [],
   "source": [
    "res = compare_clusterings(x, labels_list, methods=[\"kmeans\", \"dbscan\"])"
   ]
  },
  {
   "cell_type": "code",
   "execution_count": null,
   "metadata": {},
   "outputs": [],
   "source": [
    "import sklearn\n",
    "from sklearn.cluster import *"
   ]
  },
  {
   "cell_type": "code",
   "execution_count": null,
   "metadata": {},
   "outputs": [],
   "source": [
    "kmeans = KMeans(n_clusters=3,  n_init=\"auto\").fit(x).labels_\n",
    "dbscan = DBSCAN(eps=0.3, min_samples=2).fit(x).labels_\n",
    "hdbscan = HDBSCAN().fit(x).labels_\n",
    "\n"
   ]
  },
  {
   "cell_type": "code",
   "execution_count": null,
   "metadata": {},
   "outputs": [],
   "source": [
    "np.unique(labels_list)"
   ]
  },
  {
   "cell_type": "code",
   "execution_count": null,
   "metadata": {},
   "outputs": [],
   "source": [
    "np.unique(kmeans)"
   ]
  },
  {
   "cell_type": "code",
   "execution_count": null,
   "metadata": {},
   "outputs": [],
   "source": [
    "np.unique(dbscan)"
   ]
  },
  {
   "cell_type": "code",
   "execution_count": null,
   "metadata": {},
   "outputs": [],
   "source": [
    "np.unique(hdbscan)"
   ]
  },
  {
   "cell_type": "code",
   "execution_count": null,
   "metadata": {},
   "outputs": [],
   "source": [
    "plot_simple(x, list(kmeans))"
   ]
  },
  {
   "cell_type": "code",
   "execution_count": null,
   "metadata": {},
   "outputs": [],
   "source": [
    "\n",
    "def compare_clusterings_gedit(x, true_labels, additional_labels=None, additional_methods=None, methods=[\"tda\",\"kmeans\", \"dbscan\"], metrics=[\"rand\", \"adjusted_rand\"], nr_clusters=8, threshold=3,  diagrams=True, plot_something=True):\n",
    "    \"\"\"\n",
    "    Description:\n",
    "        comparison of different clustering methods; clustering results as well as induced state diagrams are compared; \"tda\" corresponds to TDA (co)cycle clustering\n",
    "    Arguments:\n",
    "        x numpy.ndarray: point cloud data\n",
    "        true_labels list: true labels of x\n",
    "    Returns:\n",
    "        results_list list: clustering results for each method\n",
    "        gedit_list list: graph edit distances for each method\n",
    "    \"\"\"\n",
    "    \n",
    "    import itertools\n",
    "    \n",
    "    labels_dict = dict()\n",
    "    results_dict = dict()\n",
    "    \n",
    "    results_list = []\n",
    "    \n",
    "    labels_dict[\"true\"] = true_labels\n",
    "    \n",
    "    if additional_labels != None:\n",
    "        if additional_methods == None:\n",
    "            method_nr = list(range(len(additional_labels)))\n",
    "            additional_methods = [\"method\" + str(j) for j in method_nr]\n",
    "        \n",
    "        for i, entry in enumerate(additional_labels):\n",
    "            labels_dict[additional_methods[i]] = entry\n",
    "    \n",
    "            \n",
    "    \n",
    "    for method in methods:\n",
    "        \n",
    "        if method == \"tda\":\n",
    "            #new_labels = apply_tda_clustering(x, all_get_label=True, barycenter_assignment=False, min_support_labels=30, density_assignment=True,nr_clusters=8,remove_small=True, plot_something=False)\n",
    "            new_labels = apply_tda_clustering(x, all_get_label=True, barycenter_assignment=False, min_support_labels=10, density_assignment=True,low_density_removal=False, smoothing=False,nr_clusters=8,remove_small=True, birth_weight=1,nearest_on_trajectory=False,plot_something=False)\n",
    "            labels_dict[\"tda\"] = new_labels\n",
    "            \n",
    "        if method == \"kmeans\" and nr_clusters != None:\n",
    "            new_labels = KMeans(n_clusters=8,  n_init=\"auto\").fit(x).labels_\n",
    "            labels_dict[\"kmeans\"] = new_labels\n",
    "            \n",
    "        if method == \"dbscan\":\n",
    "            new_labels = DBSCAN(eps=0.3, min_samples=2).fit(x).labels_\n",
    "            labels_dict[\"dbscan\"] = new_labels\n",
    "            \n",
    "    if plot_something == True:\n",
    "        for entry in labels_dict:\n",
    "            plot_simple(x,list(labels_dict[entry]), title=entry)\n",
    "            plt.show()\n",
    "            \n",
    "            \n",
    "    if diagrams == True:\n",
    "        gedit_list = []\n",
    "        states_dict = dict()\n",
    "        for i, entry in enumerate(labels_dict):\n",
    "            \n",
    "            if entry == \"true\":\n",
    "                new_diagram = create_state_diagrams(x, labels_dict[entry], zero_breaks=False, threshold=threshold,zero_value=-1)\n",
    "                true_diagram = new_diagram\n",
    "            else:\n",
    "                new_diagram = create_state_diagrams(x, labels_dict[entry], zero_breaks=False, threshold=threshold,zero_value=0)\n",
    "                \n",
    "            states_dict[entry] = new_diagram[1]\n",
    "        for entry in states_dict:\n",
    "            if entry != \"true\":\n",
    "\n",
    "                gedit = compute_gedit_distance(states_dict[entry], true_diagram[1])\n",
    "                gedit_list.append([entry, gedit])\n",
    "\n",
    "            \n",
    "    res = list(itertools.combinations(labels_dict, 2))\n",
    "    \n",
    "    for pair in res:\n",
    "            \n",
    "        for metric in metrics:\n",
    "            if metric == \"rand\":\n",
    "                met_result = sklearn.metrics.rand_score(labels_dict[pair[0]], labels_dict[pair[1]])                \n",
    "                results_list.append([pair[0], pair[1], metric, met_result])\n",
    "                \n",
    "            if metric == \"adjusted_rand\":\n",
    "                met_result = sklearn.metrics.adjusted_rand_score(labels_dict[pair[0]], labels_dict[pair[1]])                \n",
    "                results_list.append([pair[0], pair[1], metric, met_result])\n",
    "         \n",
    "    if diagrams == False:\n",
    "        return results_list\n",
    "    else:\n",
    "        return results_list, gedit_list\n",
    "    \n"
   ]
  },
  {
   "cell_type": "code",
   "execution_count": null,
   "metadata": {},
   "outputs": [],
   "source": [
    "compare_clusterings_gedit(x, labels_list, additional_labels=[clustering1, clustering2, clustering5, clustering9])"
   ]
  },
  {
   "cell_type": "code",
   "execution_count": null,
   "metadata": {},
   "outputs": [],
   "source": [
    "clustering_traj1_graph, clustering_traj1_sub, clustering_traj1_labels = apply_tda_clustering_trajectories(x, all_get_label = False, discard_labels=False, discard_clusters=False, nearest_on_trajectory=False, only_decision_labels=True)\n",
    "plt.show()\n",
    "plot_simple(x,clustering_traj1_labels, remove_0=False)\n",
    "print(np.unique(clustering_traj1_labels))\n",
    "plt.show()\n",
    "compare_state_diagrams(x, labels_list, [clustering_traj1_labels ], threshold=1)"
   ]
  },
  {
   "cell_type": "code",
   "execution_count": null,
   "metadata": {},
   "outputs": [],
   "source": [
    "clustering_traj2_graph, clustering_traj2_sub, clustering_traj2_labels = apply_tda_clustering_trajectories(x, all_get_label = False, discard_labels=True, discard_clusters=True, nearest_on_trajectory=True, remove_small=True, only_decision_labels=True)\n",
    "plt.show()\n",
    "plot_simple(x,clustering_traj2_labels, remove_0=False)\n",
    "print(np.unique(clustering_traj2_labels))\n",
    "plt.show()\n",
    "compare_state_diagrams(x, labels_list, [clustering_traj2_labels ], threshold=1)"
   ]
  },
  {
   "cell_type": "code",
   "execution_count": null,
   "metadata": {},
   "outputs": [],
   "source": [
    "clustering_traj3_graph, clustering_traj3_sub, clustering_traj3_labels = apply_tda_clustering_trajectories(x, all_get_label = True, discard_labels=False, discard_clusters=False, nearest_on_trajectory=False, only_decision_labels=True)\n",
    "plt.show()\n",
    "plot_simple(x,clustering_traj3_labels, remove_0=False)\n",
    "print(np.unique(clustering_traj3_labels))\n",
    "plt.show()\n",
    "compare_state_diagrams(x, labels_list, [clustering_traj3_labels ], threshold=1)"
   ]
  },
  {
   "cell_type": "code",
   "execution_count": null,
   "metadata": {},
   "outputs": [],
   "source": [
    "clustering_traj4_graph, clustering_traj4_sub, clustering_traj4_labels = apply_tda_clustering_trajectories(x, all_get_label = True, discard_labels=False, discard_clusters=False, nearest_on_trajectory=True, only_decision_labels=True)\n",
    "plt.show()\n",
    "plot_simple(x,clustering_traj4_labels, remove_0=False)\n",
    "print(np.unique(clustering_traj4_labels))\n",
    "plt.show()\n",
    "compare_state_diagrams(x, labels_list, [clustering_traj4_labels ], threshold=1)"
   ]
  },
  {
   "cell_type": "code",
   "execution_count": null,
   "metadata": {},
   "outputs": [],
   "source": [
    "clustering_traj5_graph, clustering_traj5_sub, clustering_traj5_labels = apply_tda_clustering_trajectories(x, all_get_label = True, discard_labels=True, discard_clusters=True, nearest_on_trajectory=False, only_decision_labels=True)\n",
    "plt.show()\n",
    "plot_simple(x,clustering_traj5_labels, remove_0=False)\n",
    "print(np.unique(clustering_traj5_labels))\n",
    "plt.show()\n",
    "compare_state_diagrams(x, labels_list, [clustering_traj5_labels ], threshold=1)"
   ]
  },
  {
   "cell_type": "code",
   "execution_count": null,
   "metadata": {},
   "outputs": [],
   "source": [
    "clustering_traj6_graph, clustering_traj6_sub, clustering_traj6_labels = apply_tda_clustering_trajectories(x, all_get_label = True, num_voxels_per_axis = 15, min_points_per_voxel=1, smoothing=True, discard_labels=True, discard_clusters=False, nearest_on_trajectory=False, only_decision_labels=False, nr_clusters=8)\n",
    "plt.show()\n",
    "plot_simple(x,clustering_traj6_labels, remove_0=False)\n",
    "print(np.unique(clustering_traj6_labels))\n",
    "plt.show()\n",
    "compare_state_diagrams(x, labels_list, [clustering_traj6_labels ], threshold=1)"
   ]
  },
  {
   "cell_type": "code",
   "execution_count": null,
   "metadata": {},
   "outputs": [],
   "source": [
    "clustering_traj7_graph, clustering_traj7_sub, clustering_traj7_labels = apply_tda_clustering_trajectories(x, all_get_label = True, num_voxels_per_axis = 15, min_points_per_voxel=1, smoothing=True, discard_labels=True, discard_clusters=True, nearest_on_trajectory=False, only_decision_labels=True, nr_clusters=8)\n",
    "plt.show()\n",
    "plot_simple(x,clustering_traj7_labels, remove_0=False)\n",
    "print(np.unique(clustering_traj7_labels))\n",
    "plt.show()\n",
    "compare_state_diagrams(x, labels_list, [clustering_traj7_labels ], threshold=1)"
   ]
  },
  {
   "cell_type": "code",
   "execution_count": null,
   "metadata": {},
   "outputs": [],
   "source": [
    "clustering_traj8_graph, clustering_traj8_sub, clustering_traj8_labels = apply_tda_clustering_trajectories(x, all_get_label = True, point_fraction=0.5, target_r=False, target_radius_fraction=0.01, downsampling=True, discard_labels=True, discard_clusters=True, nearest_on_trajectory=False, only_decision_labels=True, nr_clusters=8)\n",
    "plt.show()\n",
    "plot_simple(x,clustering_traj8_labels, remove_0=False)\n",
    "print(np.unique(clustering_traj8_labels))\n",
    "plt.show()\n",
    "compare_state_diagrams(x, labels_list, [clustering_traj8_labels ], threshold=1)"
   ]
  },
  {
   "cell_type": "code",
   "execution_count": null,
   "metadata": {},
   "outputs": [],
   "source": [
    "clustering_traj9_graph, clustering_traj9_sub, clustering_traj9_labels = apply_tda_clustering_trajectories(x, all_get_label = True, point_fraction=0.1, target_r=False, target_radius_fraction=0.05, downsampling=True, discard_labels=True, discard_clusters=True, nearest_on_trajectory=False, only_decision_labels=True, nr_clusters=8)\n",
    "plt.show()\n",
    "plot_simple(x,clustering_traj9_labels, remove_0=False)\n",
    "print(np.unique(clustering_traj9_labels))\n",
    "plt.show()\n",
    "compare_state_diagrams(x, labels_list, [clustering_traj9_labels ], threshold=1)"
   ]
  },
  {
   "cell_type": "code",
   "execution_count": null,
   "metadata": {},
   "outputs": [],
   "source": [
    "compare_clusterings_gedit(x, labels_list, additional_labels=[clustering_traj2_labels, clustering_traj4_labels, clustering_traj8_labels, clustering_traj9_labels])"
   ]
  },
  {
   "cell_type": "code",
   "execution_count": null,
   "metadata": {},
   "outputs": [],
   "source": [
    "clustering5 = apply_tda_clustering(x, all_get_label=True,num_voxels_per_axis = 15, min_points_per_voxel=1, smoothing=True, thresh_function=None, include_neighbors=True, barycenter_assignment=False, density_assignment=True, discard_labels=True, discard_clusters=True, min_support_labels=10, min_thresh_labels=0.1, max_correl=0.8, min_support_clusters=10, min_thresh_clusters=0.2,  nearest_on_trajectory=False, only_decision_labels=True, remove_small=True, birth_weight=1, sub_const=0,  return_threshes = True, plot_something=False, print_something=False)\n",
    "plot_simple(x,clustering5, remove_0=False)\n",
    "print(np.unique(clustering5))\n",
    "plt.show()\n",
    "compare_state_diagrams(x, labels_list, [clustering5 ], threshold=1)"
   ]
  },
  {
   "cell_type": "code",
   "execution_count": null,
   "metadata": {},
   "outputs": [],
   "source": [
    "clustering5 = apply_tda_clustering(x, thresh_function=\"multiotsu\",all_get_label=True,num_voxels_per_axis = 15, min_points_per_voxel=1, smoothing=True, include_neighbors=True, barycenter_assignment=False, density_assignment=True, discard_labels=True, discard_clusters=True, min_support_labels=10, min_thresh_labels=0.1, max_correl=0.8, min_support_clusters=10, min_thresh_clusters=0.2,  nearest_on_trajectory=False, only_decision_labels=True, remove_small=True, birth_weight=1, sub_const=0,  return_threshes = True, plot_something=False, print_something=False)\n",
    "plot_simple(x,clustering5, remove_0=False)\n",
    "print(np.unique(clustering5))\n",
    "plt.show()\n",
    "compare_state_diagrams(x, labels_list, [clustering5 ], threshold=1)"
   ]
  },
  {
   "cell_type": "code",
   "execution_count": null,
   "metadata": {},
   "outputs": [],
   "source": [
    "clustering5 = apply_tda_clustering(x, thresh_function=\"multiotsu\",all_get_label=True,num_voxels_per_axis = 15, min_points_per_voxel=1, smoothing=True, include_neighbors=True, barycenter_assignment=False, density_assignment=False, discard_labels=True, discard_clusters=True, min_support_labels=10, min_thresh_labels=0.1, max_correl=0.8, min_support_clusters=10, min_thresh_clusters=0.2,  nearest_on_trajectory=False, only_decision_labels=True, remove_small=True, birth_weight=1, sub_const=0,  return_threshes = True, plot_something=False, print_something=False)\n",
    "plot_simple(x,clustering5, remove_0=False)\n",
    "print(np.unique(clustering5))\n",
    "plt.show()\n",
    "compare_state_diagrams(x, labels_list, [clustering5 ], threshold=1)"
   ]
  },
  {
   "cell_type": "code",
   "execution_count": null,
   "metadata": {},
   "outputs": [],
   "source": [
    "clustering5 = apply_tda_clustering(x, thresh_function=\"multiotsu\",all_get_label=True,num_voxels_per_axis = 15, min_points_per_voxel=1, smoothing=False, include_neighbors=True, barycenter_assignment=False, density_assignment=False, discard_labels=True, discard_clusters=True, min_support_labels=10, min_thresh_labels=0.1, max_correl=0.8, min_support_clusters=10, min_thresh_clusters=0.2,  nearest_on_trajectory=False, only_decision_labels=True, remove_small=True, birth_weight=1, sub_const=0,  return_threshes = True, plot_something=False, print_something=False)\n",
    "plot_simple(x,clustering5, remove_0=False)\n",
    "print(np.unique(clustering5))\n",
    "plt.show()\n",
    "compare_state_diagrams(x, labels_list, [clustering5 ], threshold=1)"
   ]
  }
 ],
 "metadata": {
  "kernelspec": {
   "display_name": "Python 3 (ipykernel)",
   "language": "python",
   "name": "python3"
  },
  "language_info": {
   "codemirror_mode": {
    "name": "ipython",
    "version": 3
   },
   "file_extension": ".py",
   "mimetype": "text/x-python",
   "name": "python",
   "nbconvert_exporter": "python",
   "pygments_lexer": "ipython3",
   "version": "3.8.16"
  }
 },
 "nbformat": 4,
 "nbformat_minor": 2
}
